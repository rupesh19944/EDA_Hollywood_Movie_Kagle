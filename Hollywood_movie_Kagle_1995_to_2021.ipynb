{
 "cells": [
  {
   "cell_type": "code",
   "execution_count": 1,
   "id": "19ff0fa7",
   "metadata": {},
   "outputs": [],
   "source": [
    "import pandas as pd\n",
    "import numpy as np\n",
    "import matplotlib.pyplot as plt\n",
    "import seaborn as sns\n",
    "%matplotlib inline"
   ]
  },
  {
   "cell_type": "code",
   "execution_count": 2,
   "id": "39882b89",
   "metadata": {},
   "outputs": [],
   "source": [
    "df_TS=pd.read_csv('AnnualTicketSales.csv')"
   ]
  },
  {
   "cell_type": "code",
   "execution_count": 3,
   "id": "7d6b7380",
   "metadata": {},
   "outputs": [
    {
     "data": {
      "text/html": [
       "<div>\n",
       "<style scoped>\n",
       "    .dataframe tbody tr th:only-of-type {\n",
       "        vertical-align: middle;\n",
       "    }\n",
       "\n",
       "    .dataframe tbody tr th {\n",
       "        vertical-align: top;\n",
       "    }\n",
       "\n",
       "    .dataframe thead th {\n",
       "        text-align: right;\n",
       "    }\n",
       "</style>\n",
       "<table border=\"1\" class=\"dataframe\">\n",
       "  <thead>\n",
       "    <tr style=\"text-align: right;\">\n",
       "      <th></th>\n",
       "      <th>YEAR</th>\n",
       "      <th>TICKETS SOLD</th>\n",
       "      <th>TOTAL BOX OFFICE</th>\n",
       "      <th>TOTAL INFLATION ADJUSTED BOX OFFICE</th>\n",
       "      <th>AVERAGE TICKET PRICE</th>\n",
       "      <th>Unnamed: 5</th>\n",
       "    </tr>\n",
       "  </thead>\n",
       "  <tbody>\n",
       "    <tr>\n",
       "      <th>0</th>\n",
       "      <td>2021</td>\n",
       "      <td>42,37,74,881</td>\n",
       "      <td>$3,881,777,912</td>\n",
       "      <td>$3,881,777,912</td>\n",
       "      <td>$9.16</td>\n",
       "      <td>NaN</td>\n",
       "    </tr>\n",
       "    <tr>\n",
       "      <th>1</th>\n",
       "      <td>2020</td>\n",
       "      <td>22,36,38,958</td>\n",
       "      <td>$2,048,534,616</td>\n",
       "      <td>$2,048,534,616</td>\n",
       "      <td>$9.16</td>\n",
       "      <td>NaN</td>\n",
       "    </tr>\n",
       "    <tr>\n",
       "      <th>2</th>\n",
       "      <td>2019</td>\n",
       "      <td>1,22,85,41,629</td>\n",
       "      <td>$11,253,443,955</td>\n",
       "      <td>$11,253,444,050</td>\n",
       "      <td>$9.16</td>\n",
       "      <td>NaN</td>\n",
       "    </tr>\n",
       "    <tr>\n",
       "      <th>3</th>\n",
       "      <td>2018</td>\n",
       "      <td>1,31,15,36,128</td>\n",
       "      <td>$11,948,096,650</td>\n",
       "      <td>$12,013,670,952</td>\n",
       "      <td>$9.11</td>\n",
       "      <td>NaN</td>\n",
       "    </tr>\n",
       "    <tr>\n",
       "      <th>4</th>\n",
       "      <td>2017</td>\n",
       "      <td>1,22,56,39,761</td>\n",
       "      <td>$10,993,991,460</td>\n",
       "      <td>$11,226,860,216</td>\n",
       "      <td>$8.97</td>\n",
       "      <td>NaN</td>\n",
       "    </tr>\n",
       "  </tbody>\n",
       "</table>\n",
       "</div>"
      ],
      "text/plain": [
       "   YEAR    TICKETS SOLD TOTAL BOX OFFICE TOTAL INFLATION ADJUSTED BOX OFFICE  \\\n",
       "0  2021    42,37,74,881   $3,881,777,912                      $3,881,777,912   \n",
       "1  2020    22,36,38,958   $2,048,534,616                      $2,048,534,616   \n",
       "2  2019  1,22,85,41,629  $11,253,443,955                     $11,253,444,050   \n",
       "3  2018  1,31,15,36,128  $11,948,096,650                     $12,013,670,952   \n",
       "4  2017  1,22,56,39,761  $10,993,991,460                     $11,226,860,216   \n",
       "\n",
       "  AVERAGE TICKET PRICE  Unnamed: 5  \n",
       "0                $9.16         NaN  \n",
       "1                $9.16         NaN  \n",
       "2                $9.16         NaN  \n",
       "3                $9.11         NaN  \n",
       "4                $8.97         NaN  "
      ]
     },
     "execution_count": 3,
     "metadata": {},
     "output_type": "execute_result"
    }
   ],
   "source": [
    "df_TS.head()"
   ]
  },
  {
   "cell_type": "code",
   "execution_count": 4,
   "id": "20b2eb96",
   "metadata": {},
   "outputs": [
    {
     "name": "stdout",
     "output_type": "stream",
     "text": [
      "<class 'pandas.core.frame.DataFrame'>\n",
      "RangeIndex: 27 entries, 0 to 26\n",
      "Data columns (total 6 columns):\n",
      " #   Column                               Non-Null Count  Dtype  \n",
      "---  ------                               --------------  -----  \n",
      " 0   YEAR                                 27 non-null     int64  \n",
      " 1   TICKETS SOLD                         27 non-null     object \n",
      " 2   TOTAL BOX OFFICE                     27 non-null     object \n",
      " 3   TOTAL INFLATION ADJUSTED BOX OFFICE  27 non-null     object \n",
      " 4   AVERAGE TICKET PRICE                 27 non-null     object \n",
      " 5   Unnamed: 5                           0 non-null      float64\n",
      "dtypes: float64(1), int64(1), object(4)\n",
      "memory usage: 1.4+ KB\n"
     ]
    }
   ],
   "source": [
    "df_TS.info()"
   ]
  },
  {
   "cell_type": "code",
   "execution_count": 5,
   "id": "c77a786e",
   "metadata": {},
   "outputs": [
    {
     "data": {
      "text/plain": [
       "YEAR                                    0\n",
       "TICKETS SOLD                            0\n",
       "TOTAL BOX OFFICE                        0\n",
       "TOTAL INFLATION ADJUSTED BOX OFFICE     0\n",
       "AVERAGE TICKET PRICE                    0\n",
       "Unnamed: 5                             27\n",
       "dtype: int64"
      ]
     },
     "execution_count": 5,
     "metadata": {},
     "output_type": "execute_result"
    }
   ],
   "source": [
    "df_TS.isnull().sum()"
   ]
  },
  {
   "cell_type": "code",
   "execution_count": 6,
   "id": "78ae716c",
   "metadata": {},
   "outputs": [
    {
     "data": {
      "text/plain": [
       "(27, 6)"
      ]
     },
     "execution_count": 6,
     "metadata": {},
     "output_type": "execute_result"
    }
   ],
   "source": [
    "df_TS.shape"
   ]
  },
  {
   "cell_type": "code",
   "execution_count": 7,
   "id": "2f8fa15b",
   "metadata": {},
   "outputs": [],
   "source": [
    "df_TS.drop('Unnamed: 5', inplace=True, axis=1)"
   ]
  },
  {
   "cell_type": "code",
   "execution_count": 8,
   "id": "cd31a233",
   "metadata": {},
   "outputs": [
    {
     "data": {
      "text/plain": [
       "(27, 5)"
      ]
     },
     "execution_count": 8,
     "metadata": {},
     "output_type": "execute_result"
    }
   ],
   "source": [
    "df_TS.shape"
   ]
  },
  {
   "cell_type": "code",
   "execution_count": 9,
   "id": "cd2c9b5d",
   "metadata": {},
   "outputs": [
    {
     "data": {
      "text/html": [
       "<div>\n",
       "<style scoped>\n",
       "    .dataframe tbody tr th:only-of-type {\n",
       "        vertical-align: middle;\n",
       "    }\n",
       "\n",
       "    .dataframe tbody tr th {\n",
       "        vertical-align: top;\n",
       "    }\n",
       "\n",
       "    .dataframe thead th {\n",
       "        text-align: right;\n",
       "    }\n",
       "</style>\n",
       "<table border=\"1\" class=\"dataframe\">\n",
       "  <thead>\n",
       "    <tr style=\"text-align: right;\">\n",
       "      <th></th>\n",
       "      <th>YEAR</th>\n",
       "    </tr>\n",
       "  </thead>\n",
       "  <tbody>\n",
       "    <tr>\n",
       "      <th>count</th>\n",
       "      <td>27.000000</td>\n",
       "    </tr>\n",
       "    <tr>\n",
       "      <th>mean</th>\n",
       "      <td>2008.000000</td>\n",
       "    </tr>\n",
       "    <tr>\n",
       "      <th>std</th>\n",
       "      <td>7.937254</td>\n",
       "    </tr>\n",
       "    <tr>\n",
       "      <th>min</th>\n",
       "      <td>1995.000000</td>\n",
       "    </tr>\n",
       "    <tr>\n",
       "      <th>25%</th>\n",
       "      <td>2001.500000</td>\n",
       "    </tr>\n",
       "    <tr>\n",
       "      <th>50%</th>\n",
       "      <td>2008.000000</td>\n",
       "    </tr>\n",
       "    <tr>\n",
       "      <th>75%</th>\n",
       "      <td>2014.500000</td>\n",
       "    </tr>\n",
       "    <tr>\n",
       "      <th>max</th>\n",
       "      <td>2021.000000</td>\n",
       "    </tr>\n",
       "  </tbody>\n",
       "</table>\n",
       "</div>"
      ],
      "text/plain": [
       "              YEAR\n",
       "count    27.000000\n",
       "mean   2008.000000\n",
       "std       7.937254\n",
       "min    1995.000000\n",
       "25%    2001.500000\n",
       "50%    2008.000000\n",
       "75%    2014.500000\n",
       "max    2021.000000"
      ]
     },
     "execution_count": 9,
     "metadata": {},
     "output_type": "execute_result"
    }
   ],
   "source": [
    "df_TS.describe()"
   ]
  },
  {
   "cell_type": "code",
   "execution_count": 10,
   "id": "087eb1cb",
   "metadata": {},
   "outputs": [
    {
     "data": {
      "text/plain": [
       "Index(['YEAR', 'TICKETS SOLD', 'TOTAL BOX OFFICE',\n",
       "       'TOTAL INFLATION ADJUSTED BOX OFFICE', 'AVERAGE TICKET PRICE'],\n",
       "      dtype='object')"
      ]
     },
     "execution_count": 10,
     "metadata": {},
     "output_type": "execute_result"
    }
   ],
   "source": [
    "df_TS.columns"
   ]
  },
  {
   "cell_type": "code",
   "execution_count": 11,
   "id": "aaaf76c1",
   "metadata": {},
   "outputs": [],
   "source": [
    "df_TS['TOTAL BOX OFFICE'] = df_TS['TOTAL BOX OFFICE'].str.lstrip('$')\n",
    "df_TS['TOTAL BOX OFFICE'] = df_TS['TOTAL BOX OFFICE'].str.replace(',','')"
   ]
  },
  {
   "cell_type": "code",
   "execution_count": 12,
   "id": "355f2437",
   "metadata": {},
   "outputs": [
    {
     "name": "stderr",
     "output_type": "stream",
     "text": [
      "C:\\ProgramData\\Anaconda3\\lib\\site-packages\\ipykernel_launcher.py:1: FutureWarning: The default value of regex will change from True to False in a future version. In addition, single character regular expressions will *not* be treated as literal strings when regex=True.\n",
      "  \"\"\"Entry point for launching an IPython kernel.\n"
     ]
    }
   ],
   "source": [
    "df_TS['TOTAL INFLATION ADJUSTED BOX OFFICE'] = df_TS['TOTAL INFLATION ADJUSTED BOX OFFICE'].str.replace('$','')\n",
    "df_TS['TOTAL INFLATION ADJUSTED BOX OFFICE'] = df_TS['TOTAL INFLATION ADJUSTED BOX OFFICE'].str.replace(',','')"
   ]
  },
  {
   "cell_type": "code",
   "execution_count": 13,
   "id": "af467ba5",
   "metadata": {},
   "outputs": [],
   "source": [
    "df_TS['AVERAGE TICKET PRICE'] = df_TS['AVERAGE TICKET PRICE'].apply(lambda x:x[1:])\n",
    "df_TS['AVERAGE TICKET PRICE'] = df_TS['AVERAGE TICKET PRICE'].str.replace(',','')\n",
    "df_TS['TICKETS SOLD'] = df_TS['TICKETS SOLD'].str.replace(',','')"
   ]
  },
  {
   "cell_type": "code",
   "execution_count": 14,
   "id": "ac59dc73",
   "metadata": {},
   "outputs": [],
   "source": [
    "df_TS['TOTAL BOX OFFICE'] = df_TS['TOTAL BOX OFFICE'].astype('int64')\n",
    "df_TS['TOTAL INFLATION ADJUSTED BOX OFFICE'] = df_TS['TOTAL INFLATION ADJUSTED BOX OFFICE'].astype('int64')\n",
    "df_TS['AVERAGE TICKET PRICE'] = df_TS['AVERAGE TICKET PRICE'].astype('float')\n",
    "df_TS['TICKETS SOLD'] = df_TS['TICKETS SOLD'].astype('int64')"
   ]
  },
  {
   "cell_type": "code",
   "execution_count": 15,
   "id": "3d19f401",
   "metadata": {},
   "outputs": [
    {
     "name": "stdout",
     "output_type": "stream",
     "text": [
      "<class 'pandas.core.frame.DataFrame'>\n",
      "RangeIndex: 27 entries, 0 to 26\n",
      "Data columns (total 5 columns):\n",
      " #   Column                               Non-Null Count  Dtype  \n",
      "---  ------                               --------------  -----  \n",
      " 0   YEAR                                 27 non-null     int64  \n",
      " 1   TICKETS SOLD                         27 non-null     int64  \n",
      " 2   TOTAL BOX OFFICE                     27 non-null     int64  \n",
      " 3   TOTAL INFLATION ADJUSTED BOX OFFICE  27 non-null     int64  \n",
      " 4   AVERAGE TICKET PRICE                 27 non-null     float64\n",
      "dtypes: float64(1), int64(4)\n",
      "memory usage: 1.2 KB\n"
     ]
    }
   ],
   "source": [
    "df_TS.info()"
   ]
  },
  {
   "cell_type": "code",
   "execution_count": 16,
   "id": "eedf6e6d",
   "metadata": {},
   "outputs": [
    {
     "data": {
      "text/plain": [
       "<BarContainer object of 27 artists>"
      ]
     },
     "execution_count": 16,
     "metadata": {},
     "output_type": "execute_result"
    },
    {
     "data": {
      "image/png": "[encoded data removed]",
      "text/plain": [
       "<Figure size 432x288 with 1 Axes>"
      ]
     },
     "metadata": {
      "needs_background": "light"
     },
     "output_type": "display_data"
    }
   ],
   "source": [
    "# visualization of Age and Purchase\n",
    "#sns.barplot(x='YEAR',y='TOTAL BOX OFFICE', data= df_TS)\n",
    "#plt.xticks(rotation=90)\n",
    "plt.bar(df_TS['YEAR'],df_TS['TOTAL BOX OFFICE'])"
   ]
  },
  {
   "cell_type": "code",
   "execution_count": 17,
   "id": "02641326",
   "metadata": {},
   "outputs": [
    {
     "data": {
      "text/plain": [
       "<BarContainer object of 27 artists>"
      ]
     },
     "execution_count": 17,
     "metadata": {},
     "output_type": "execute_result"
    },
    {
     "data": {
      "image/png": "[encoded data removed]",
      "text/plain": [
       "<Figure size 432x288 with 1 Axes>"
      ]
     },
     "metadata": {
      "needs_background": "light"
     },
     "output_type": "display_data"
    }
   ],
   "source": [
    "plt.bar(df_TS['YEAR'],df_TS['AVERAGE TICKET PRICE'])"
   ]
  },
  {
   "cell_type": "code",
   "execution_count": 18,
   "id": "7a9a815c",
   "metadata": {},
   "outputs": [
    {
     "data": {
      "text/plain": [
       "<BarContainer object of 27 artists>"
      ]
     },
     "execution_count": 18,
     "metadata": {},
     "output_type": "execute_result"
    },
    {
     "data": {
      "image/png": "[encoded data removed]",
      "text/plain": [
       "<Figure size 432x288 with 1 Axes>"
      ]
     },
     "metadata": {
      "needs_background": "light"
     },
     "output_type": "display_data"
    }
   ],
   "source": [
    "plt.bar(df_TS['YEAR'],df_TS['TICKETS SOLD'])"
   ]
  },
  {
   "cell_type": "code",
   "execution_count": 19,
   "id": "a3b6c23a",
   "metadata": {},
   "outputs": [
    {
     "data": {
      "text/plain": [
       "<AxesSubplot:>"
      ]
     },
     "execution_count": 19,
     "metadata": {},
     "output_type": "execute_result"
    },
    {
     "data": {
      "image/png": "[encoded data removed]",
      "text/plain": [
       "<Figure size 432x288 with 2 Axes>"
      ]
     },
     "metadata": {
      "needs_background": "light"
     },
     "output_type": "display_data"
    }
   ],
   "source": [
    "corr_mat = df_TS.corr()\n",
    "Feature = corr_mat.index\n",
    "sns.heatmap(df_TS[Feature].corr(),annot=True,cmap=\"RdYlGn\")"
   ]
  },
  {
   "cell_type": "markdown",
   "id": "2c40c25c",
   "metadata": {},
   "source": [
    "###### Obs: Positive correlation bw Total box office and Ticket sold\n",
    "    strong correlation bw Ticket sold and Total Inflation Adjusted box office\n",
    "    Negative relation bw ticket sold and year as seen in decreasing trend by graph and in 2019,2020,2021 due to pendemic graph bar is small"
   ]
  },
  {
   "cell_type": "code",
   "execution_count": 20,
   "id": "5f4b9590",
   "metadata": {},
   "outputs": [],
   "source": [
    "df_HG = pd.read_csv('HighestGrossers.csv')"
   ]
  },
  {
   "cell_type": "code",
   "execution_count": 21,
   "id": "79716ec9",
   "metadata": {},
   "outputs": [
    {
     "data": {
      "text/html": [
       "<div>\n",
       "<style scoped>\n",
       "    .dataframe tbody tr th:only-of-type {\n",
       "        vertical-align: middle;\n",
       "    }\n",
       "\n",
       "    .dataframe tbody tr th {\n",
       "        vertical-align: top;\n",
       "    }\n",
       "\n",
       "    .dataframe thead th {\n",
       "        text-align: right;\n",
       "    }\n",
       "</style>\n",
       "<table border=\"1\" class=\"dataframe\">\n",
       "  <thead>\n",
       "    <tr style=\"text-align: right;\">\n",
       "      <th></th>\n",
       "      <th>YEAR</th>\n",
       "      <th>MOVIE</th>\n",
       "      <th>GENRE</th>\n",
       "      <th>MPAA RATING</th>\n",
       "      <th>DISTRIBUTOR</th>\n",
       "      <th>TOTAL FOR YEAR</th>\n",
       "      <th>TOTAL IN 2019 DOLLARS</th>\n",
       "      <th>TICKETS SOLD</th>\n",
       "    </tr>\n",
       "  </thead>\n",
       "  <tbody>\n",
       "    <tr>\n",
       "      <th>22</th>\n",
       "      <td>2017</td>\n",
       "      <td>Star Wars Ep. VIII: The Last Jedi</td>\n",
       "      <td>Action</td>\n",
       "      <td>PG-13</td>\n",
       "      <td>Walt Disney</td>\n",
       "      <td>$517,218,368</td>\n",
       "      <td>$528,173,936</td>\n",
       "      <td>5,76,60,910</td>\n",
       "    </tr>\n",
       "    <tr>\n",
       "      <th>23</th>\n",
       "      <td>2018</td>\n",
       "      <td>Black Panther</td>\n",
       "      <td>Action</td>\n",
       "      <td>PG-13</td>\n",
       "      <td>Walt Disney</td>\n",
       "      <td>$700,059,566</td>\n",
       "      <td>$703,901,821</td>\n",
       "      <td>7,68,45,177</td>\n",
       "    </tr>\n",
       "    <tr>\n",
       "      <th>24</th>\n",
       "      <td>2019</td>\n",
       "      <td>Avengers: Endgame</td>\n",
       "      <td>NaN</td>\n",
       "      <td>PG-13</td>\n",
       "      <td>Walt Disney</td>\n",
       "      <td>$858,373,000</td>\n",
       "      <td>$858,373,002</td>\n",
       "      <td>9,37,08,843</td>\n",
       "    </tr>\n",
       "    <tr>\n",
       "      <th>25</th>\n",
       "      <td>2020</td>\n",
       "      <td>Bad Boys For Life</td>\n",
       "      <td>NaN</td>\n",
       "      <td>R</td>\n",
       "      <td>Sony Pictures</td>\n",
       "      <td>$204,417,855</td>\n",
       "      <td>$204,417,848</td>\n",
       "      <td>2,23,16,359</td>\n",
       "    </tr>\n",
       "    <tr>\n",
       "      <th>26</th>\n",
       "      <td>2021</td>\n",
       "      <td>Shang-Chi and the Legend of the Ten Rings</td>\n",
       "      <td>NaN</td>\n",
       "      <td>PG-13</td>\n",
       "      <td>Walt Disney</td>\n",
       "      <td>$224,226,704</td>\n",
       "      <td>$224,226,704</td>\n",
       "      <td>2,44,78,897</td>\n",
       "    </tr>\n",
       "  </tbody>\n",
       "</table>\n",
       "</div>"
      ],
      "text/plain": [
       "    YEAR                                      MOVIE   GENRE MPAA RATING  \\\n",
       "22  2017          Star Wars Ep. VIII: The Last Jedi  Action       PG-13   \n",
       "23  2018                              Black Panther  Action       PG-13   \n",
       "24  2019                          Avengers: Endgame     NaN       PG-13   \n",
       "25  2020                          Bad Boys For Life     NaN           R   \n",
       "26  2021  Shang-Chi and the Legend of the Ten Rings     NaN       PG-13   \n",
       "\n",
       "      DISTRIBUTOR TOTAL FOR YEAR TOTAL IN 2019 DOLLARS TICKETS SOLD  \n",
       "22    Walt Disney   $517,218,368          $528,173,936  5,76,60,910  \n",
       "23    Walt Disney   $700,059,566          $703,901,821  7,68,45,177  \n",
       "24    Walt Disney   $858,373,000          $858,373,002  9,37,08,843  \n",
       "25  Sony Pictures   $204,417,855          $204,417,848  2,23,16,359  \n",
       "26    Walt Disney   $224,226,704          $224,226,704  2,44,78,897  "
      ]
     },
     "execution_count": 21,
     "metadata": {},
     "output_type": "execute_result"
    }
   ],
   "source": [
    "df_HG.tail()"
   ]
  },
  {
   "cell_type": "code",
   "execution_count": 22,
   "id": "5a216f20",
   "metadata": {},
   "outputs": [
    {
     "data": {
      "text/plain": [
       "Walt Disney           12\n",
       "Warner Bros.           4\n",
       "Sony Pictures          4\n",
       "20th Century Fox       3\n",
       "Paramount Pictures     2\n",
       "Universal              1\n",
       "Dreamworks SKG         1\n",
       "Name: DISTRIBUTOR, dtype: int64"
      ]
     },
     "execution_count": 22,
     "metadata": {},
     "output_type": "execute_result"
    }
   ],
   "source": [
    "df_HG.DISTRIBUTOR.value_counts()"
   ]
  },
  {
   "cell_type": "code",
   "execution_count": 23,
   "id": "7a46101a",
   "metadata": {},
   "outputs": [
    {
     "data": {
      "text/plain": [
       "([0, 1, 2, 3, 4, 5, 6],\n",
       " [Text(0, 0, ''),\n",
       "  Text(0, 0, ''),\n",
       "  Text(0, 0, ''),\n",
       "  Text(0, 0, ''),\n",
       "  Text(0, 0, ''),\n",
       "  Text(0, 0, ''),\n",
       "  Text(0, 0, '')])"
      ]
     },
     "execution_count": 23,
     "metadata": {},
     "output_type": "execute_result"
    },
    {
     "data": {
      "image/png": "[encoded data removed]",
      "text/plain": [
       "<Figure size 432x288 with 1 Axes>"
      ]
     },
     "metadata": {
      "needs_background": "light"
     },
     "output_type": "display_data"
    }
   ],
   "source": [
    "plt.bar(df_HG.DISTRIBUTOR.unique(),df_HG.DISTRIBUTOR.value_counts())\n",
    "plt.xticks(rotation=90)"
   ]
  },
  {
   "cell_type": "code",
   "execution_count": 24,
   "id": "c4b54562",
   "metadata": {},
   "outputs": [
    {
     "data": {
      "text/plain": [
       "([0, 1, 2], [Text(0, 0, ''), Text(0, 0, ''), Text(0, 0, '')])"
      ]
     },
     "execution_count": 24,
     "metadata": {},
     "output_type": "execute_result"
    },
    {
     "data": {
      "image/png": "[encoded data removed]",
      "text/plain": [
       "<Figure size 432x288 with 1 Axes>"
      ]
     },
     "metadata": {
      "needs_background": "light"
     },
     "output_type": "display_data"
    }
   ],
   "source": [
    "df_HG1 = df_HG[df_HG.GENRE.notnull()]\n",
    "plt.bar(df_HG1.GENRE.unique(),df_HG1.GENRE.value_counts())\n",
    "plt.xticks(rotation=90)"
   ]
  },
  {
   "cell_type": "code",
   "execution_count": 25,
   "id": "b1e6cc43",
   "metadata": {},
   "outputs": [],
   "source": [
    "df_HG['TICKETS SOLD']=df_HG['TICKETS SOLD'].str.replace(',','')\n",
    "df_HG['TICKETS SOLD']=df_HG['TICKETS SOLD'].astype(int)"
   ]
  },
  {
   "cell_type": "code",
   "execution_count": 26,
   "id": "89f3f8f1",
   "metadata": {},
   "outputs": [
    {
     "name": "stderr",
     "output_type": "stream",
     "text": [
      "C:\\ProgramData\\Anaconda3\\lib\\site-packages\\ipykernel_launcher.py:1: FutureWarning: The default value of regex will change from True to False in a future version. In addition, single character regular expressions will *not* be treated as literal strings when regex=True.\n",
      "  \"\"\"Entry point for launching an IPython kernel.\n"
     ]
    }
   ],
   "source": [
    "df_HG['TOTAL IN 2019 DOLLARS'] = df_HG['TOTAL IN 2019 DOLLARS'].str.replace(',','').str.replace('$','')\n",
    "df_HG['TOTAL IN 2019 DOLLARS'] = df_HG['TOTAL IN 2019 DOLLARS'].astype(int)"
   ]
  },
  {
   "cell_type": "code",
   "execution_count": 27,
   "id": "4d4fad71",
   "metadata": {},
   "outputs": [
    {
     "name": "stderr",
     "output_type": "stream",
     "text": [
      "C:\\ProgramData\\Anaconda3\\lib\\site-packages\\ipykernel_launcher.py:1: FutureWarning: The default value of regex will change from True to False in a future version. In addition, single character regular expressions will *not* be treated as literal strings when regex=True.\n",
      "  \"\"\"Entry point for launching an IPython kernel.\n"
     ]
    }
   ],
   "source": [
    "df_HG['TOTAL FOR YEAR'] = df_HG['TOTAL FOR YEAR'].str.replace(',','').str.replace('$','')\n",
    "df_HG['TOTAL FOR YEAR'] = df_HG['TOTAL FOR YEAR'].astype(int)"
   ]
  },
  {
   "cell_type": "code",
   "execution_count": 28,
   "id": "7f31f6fe",
   "metadata": {},
   "outputs": [
    {
     "data": {
      "text/plain": [
       "YEAR                     0\n",
       "MOVIE                    0\n",
       "GENRE                    3\n",
       "MPAA RATING              0\n",
       "DISTRIBUTOR              0\n",
       "TOTAL FOR YEAR           0\n",
       "TOTAL IN 2019 DOLLARS    0\n",
       "TICKETS SOLD             0\n",
       "dtype: int64"
      ]
     },
     "execution_count": 28,
     "metadata": {},
     "output_type": "execute_result"
    }
   ],
   "source": [
    "df_HG.isnull().sum()"
   ]
  },
  {
   "cell_type": "code",
   "execution_count": 29,
   "id": "a71339ae",
   "metadata": {},
   "outputs": [
    {
     "data": {
      "text/plain": [
       "Index(['YEAR', 'MOVIE', 'GENRE', 'MPAA RATING', 'DISTRIBUTOR',\n",
       "       'TOTAL FOR YEAR', 'TOTAL IN 2019 DOLLARS', 'TICKETS SOLD'],\n",
       "      dtype='object')"
      ]
     },
     "execution_count": 29,
     "metadata": {},
     "output_type": "execute_result"
    }
   ],
   "source": [
    "df_HG.columns"
   ]
  },
  {
   "cell_type": "code",
   "execution_count": 30,
   "id": "e0318080",
   "metadata": {},
   "outputs": [
    {
     "data": {
      "text/plain": [
       "Adventure    14\n",
       "Action        9\n",
       "Drama         1\n",
       "Name: GENRE, dtype: int64"
      ]
     },
     "execution_count": 30,
     "metadata": {},
     "output_type": "execute_result"
    }
   ],
   "source": [
    "df_HG['GENRE'].value_counts()"
   ]
  },
  {
   "cell_type": "code",
   "execution_count": 31,
   "id": "ccb46cbb",
   "metadata": {},
   "outputs": [
    {
     "data": {
      "text/plain": [
       "array([6, 0, 3, 2, 4, 5, 1])"
      ]
     },
     "execution_count": 31,
     "metadata": {},
     "output_type": "execute_result"
    }
   ],
   "source": [
    "from sklearn import preprocessing \n",
    "# label_encoder object knows how to understand word labels.\n",
    "label_encoder = preprocessing.LabelEncoder()\n",
    "df_HG['MPAA RATING']= label_encoder.fit_transform(df_HG['MPAA RATING'])\n",
    "df_HG['DISTRIBUTOR']= label_encoder.fit_transform(df_HG['DISTRIBUTOR']) \n",
    "df_HG['GENRE']= label_encoder.fit_transform(df_HG['GENRE'])\n",
    "df_HG['DISTRIBUTOR'].unique()"
   ]
  },
  {
   "cell_type": "code",
   "execution_count": 32,
   "id": "5e9a40ec",
   "metadata": {},
   "outputs": [
    {
     "data": {
      "text/html": [
       "<div>\n",
       "<style scoped>\n",
       "    .dataframe tbody tr th:only-of-type {\n",
       "        vertical-align: middle;\n",
       "    }\n",
       "\n",
       "    .dataframe tbody tr th {\n",
       "        vertical-align: top;\n",
       "    }\n",
       "\n",
       "    .dataframe thead th {\n",
       "        text-align: right;\n",
       "    }\n",
       "</style>\n",
       "<table border=\"1\" class=\"dataframe\">\n",
       "  <thead>\n",
       "    <tr style=\"text-align: right;\">\n",
       "      <th></th>\n",
       "      <th>YEAR</th>\n",
       "      <th>MOVIE</th>\n",
       "      <th>GENRE</th>\n",
       "      <th>MPAA RATING</th>\n",
       "      <th>DISTRIBUTOR</th>\n",
       "      <th>TOTAL FOR YEAR</th>\n",
       "      <th>TOTAL IN 2019 DOLLARS</th>\n",
       "      <th>TICKETS SOLD</th>\n",
       "    </tr>\n",
       "  </thead>\n",
       "  <tbody>\n",
       "    <tr>\n",
       "      <th>0</th>\n",
       "      <td>1995</td>\n",
       "      <td>Batman Forever</td>\n",
       "      <td>2</td>\n",
       "      <td>2</td>\n",
       "      <td>6</td>\n",
       "      <td>184031112</td>\n",
       "      <td>387522978</td>\n",
       "      <td>42306002</td>\n",
       "    </tr>\n",
       "    <tr>\n",
       "      <th>1</th>\n",
       "      <td>1996</td>\n",
       "      <td>Independence Day</td>\n",
       "      <td>1</td>\n",
       "      <td>2</td>\n",
       "      <td>0</td>\n",
       "      <td>306169255</td>\n",
       "      <td>634504608</td>\n",
       "      <td>69269062</td>\n",
       "    </tr>\n",
       "    <tr>\n",
       "      <th>2</th>\n",
       "      <td>1997</td>\n",
       "      <td>Men in Black</td>\n",
       "      <td>1</td>\n",
       "      <td>2</td>\n",
       "      <td>3</td>\n",
       "      <td>250650052</td>\n",
       "      <td>500207943</td>\n",
       "      <td>54607854</td>\n",
       "    </tr>\n",
       "    <tr>\n",
       "      <th>3</th>\n",
       "      <td>1998</td>\n",
       "      <td>Titanic</td>\n",
       "      <td>1</td>\n",
       "      <td>2</td>\n",
       "      <td>2</td>\n",
       "      <td>443319081</td>\n",
       "      <td>865842808</td>\n",
       "      <td>94524324</td>\n",
       "    </tr>\n",
       "    <tr>\n",
       "      <th>4</th>\n",
       "      <td>1999</td>\n",
       "      <td>Star Wars Ep. I: The Phantom Menace</td>\n",
       "      <td>1</td>\n",
       "      <td>1</td>\n",
       "      <td>0</td>\n",
       "      <td>430443350</td>\n",
       "      <td>776153749</td>\n",
       "      <td>84732942</td>\n",
       "    </tr>\n",
       "  </tbody>\n",
       "</table>\n",
       "</div>"
      ],
      "text/plain": [
       "   YEAR                                MOVIE  GENRE  MPAA RATING  DISTRIBUTOR  \\\n",
       "0  1995                       Batman Forever      2            2            6   \n",
       "1  1996                     Independence Day      1            2            0   \n",
       "2  1997                         Men in Black      1            2            3   \n",
       "3  1998                              Titanic      1            2            2   \n",
       "4  1999  Star Wars Ep. I: The Phantom Menace      1            1            0   \n",
       "\n",
       "   TOTAL FOR YEAR  TOTAL IN 2019 DOLLARS  TICKETS SOLD  \n",
       "0       184031112              387522978      42306002  \n",
       "1       306169255              634504608      69269062  \n",
       "2       250650052              500207943      54607854  \n",
       "3       443319081              865842808      94524324  \n",
       "4       430443350              776153749      84732942  "
      ]
     },
     "execution_count": 32,
     "metadata": {},
     "output_type": "execute_result"
    }
   ],
   "source": [
    "df_HG.head()"
   ]
  },
  {
   "cell_type": "code",
   "execution_count": 33,
   "id": "1867e47b",
   "metadata": {},
   "outputs": [
    {
     "name": "stdout",
     "output_type": "stream",
     "text": [
      "<class 'pandas.core.frame.DataFrame'>\n",
      "RangeIndex: 27 entries, 0 to 26\n",
      "Data columns (total 8 columns):\n",
      " #   Column                 Non-Null Count  Dtype \n",
      "---  ------                 --------------  ----- \n",
      " 0   YEAR                   27 non-null     int64 \n",
      " 1   MOVIE                  27 non-null     object\n",
      " 2   GENRE                  27 non-null     int32 \n",
      " 3   MPAA RATING            27 non-null     int32 \n",
      " 4   DISTRIBUTOR            27 non-null     int32 \n",
      " 5   TOTAL FOR YEAR         27 non-null     int32 \n",
      " 6   TOTAL IN 2019 DOLLARS  27 non-null     int32 \n",
      " 7   TICKETS SOLD           27 non-null     int32 \n",
      "dtypes: int32(6), int64(1), object(1)\n",
      "memory usage: 1.2+ KB\n"
     ]
    }
   ],
   "source": [
    "df_HG.info()"
   ]
  },
  {
   "cell_type": "code",
   "execution_count": 34,
   "id": "6fb89b25",
   "metadata": {},
   "outputs": [
    {
     "data": {
      "text/html": [
       "<div>\n",
       "<style scoped>\n",
       "    .dataframe tbody tr th:only-of-type {\n",
       "        vertical-align: middle;\n",
       "    }\n",
       "\n",
       "    .dataframe tbody tr th {\n",
       "        vertical-align: top;\n",
       "    }\n",
       "\n",
       "    .dataframe thead th {\n",
       "        text-align: right;\n",
       "    }\n",
       "</style>\n",
       "<table border=\"1\" class=\"dataframe\">\n",
       "  <thead>\n",
       "    <tr style=\"text-align: right;\">\n",
       "      <th></th>\n",
       "      <th>YEAR</th>\n",
       "      <th>GENRE</th>\n",
       "      <th>MPAA RATING</th>\n",
       "      <th>DISTRIBUTOR</th>\n",
       "      <th>TOTAL FOR YEAR</th>\n",
       "      <th>TOTAL IN 2019 DOLLARS</th>\n",
       "      <th>TICKETS SOLD</th>\n",
       "    </tr>\n",
       "  </thead>\n",
       "  <tbody>\n",
       "    <tr>\n",
       "      <th>count</th>\n",
       "      <td>27.000000</td>\n",
       "      <td>27.000000</td>\n",
       "      <td>27.000000</td>\n",
       "      <td>27.000000</td>\n",
       "      <td>2.700000e+01</td>\n",
       "      <td>2.700000e+01</td>\n",
       "      <td>2.700000e+01</td>\n",
       "    </tr>\n",
       "    <tr>\n",
       "      <th>mean</th>\n",
       "      <td>2008.000000</td>\n",
       "      <td>0.925926</td>\n",
       "      <td>1.703704</td>\n",
       "      <td>3.888889</td>\n",
       "      <td>4.192772e+08</td>\n",
       "      <td>5.537170e+08</td>\n",
       "      <td>6.044945e+07</td>\n",
       "    </tr>\n",
       "    <tr>\n",
       "      <th>std</th>\n",
       "      <td>7.937254</td>\n",
       "      <td>0.916764</td>\n",
       "      <td>0.668800</td>\n",
       "      <td>1.928198</td>\n",
       "      <td>1.631468e+08</td>\n",
       "      <td>1.699856e+08</td>\n",
       "      <td>1.855738e+07</td>\n",
       "    </tr>\n",
       "    <tr>\n",
       "      <th>min</th>\n",
       "      <td>1995.000000</td>\n",
       "      <td>0.000000</td>\n",
       "      <td>0.000000</td>\n",
       "      <td>0.000000</td>\n",
       "      <td>1.840311e+08</td>\n",
       "      <td>2.044178e+08</td>\n",
       "      <td>2.231636e+07</td>\n",
       "    </tr>\n",
       "    <tr>\n",
       "      <th>25%</th>\n",
       "      <td>2001.500000</td>\n",
       "      <td>0.000000</td>\n",
       "      <td>1.500000</td>\n",
       "      <td>3.000000</td>\n",
       "      <td>3.196123e+08</td>\n",
       "      <td>4.544314e+08</td>\n",
       "      <td>4.961042e+07</td>\n",
       "    </tr>\n",
       "    <tr>\n",
       "      <th>50%</th>\n",
       "      <td>2008.000000</td>\n",
       "      <td>1.000000</td>\n",
       "      <td>2.000000</td>\n",
       "      <td>5.000000</td>\n",
       "      <td>4.037064e+08</td>\n",
       "      <td>5.160503e+08</td>\n",
       "      <td>5.633737e+07</td>\n",
       "    </tr>\n",
       "    <tr>\n",
       "      <th>75%</th>\n",
       "      <td>2014.500000</td>\n",
       "      <td>1.000000</td>\n",
       "      <td>2.000000</td>\n",
       "      <td>5.000000</td>\n",
       "      <td>4.648073e+08</td>\n",
       "      <td>6.641301e+08</td>\n",
       "      <td>7.250329e+07</td>\n",
       "    </tr>\n",
       "    <tr>\n",
       "      <th>max</th>\n",
       "      <td>2021.000000</td>\n",
       "      <td>3.000000</td>\n",
       "      <td>3.000000</td>\n",
       "      <td>6.000000</td>\n",
       "      <td>8.583730e+08</td>\n",
       "      <td>8.658428e+08</td>\n",
       "      <td>9.452432e+07</td>\n",
       "    </tr>\n",
       "  </tbody>\n",
       "</table>\n",
       "</div>"
      ],
      "text/plain": [
       "              YEAR      GENRE  MPAA RATING  DISTRIBUTOR  TOTAL FOR YEAR  \\\n",
       "count    27.000000  27.000000    27.000000    27.000000    2.700000e+01   \n",
       "mean   2008.000000   0.925926     1.703704     3.888889    4.192772e+08   \n",
       "std       7.937254   0.916764     0.668800     1.928198    1.631468e+08   \n",
       "min    1995.000000   0.000000     0.000000     0.000000    1.840311e+08   \n",
       "25%    2001.500000   0.000000     1.500000     3.000000    3.196123e+08   \n",
       "50%    2008.000000   1.000000     2.000000     5.000000    4.037064e+08   \n",
       "75%    2014.500000   1.000000     2.000000     5.000000    4.648073e+08   \n",
       "max    2021.000000   3.000000     3.000000     6.000000    8.583730e+08   \n",
       "\n",
       "       TOTAL IN 2019 DOLLARS  TICKETS SOLD  \n",
       "count           2.700000e+01  2.700000e+01  \n",
       "mean            5.537170e+08  6.044945e+07  \n",
       "std             1.699856e+08  1.855738e+07  \n",
       "min             2.044178e+08  2.231636e+07  \n",
       "25%             4.544314e+08  4.961042e+07  \n",
       "50%             5.160503e+08  5.633737e+07  \n",
       "75%             6.641301e+08  7.250329e+07  \n",
       "max             8.658428e+08  9.452432e+07  "
      ]
     },
     "execution_count": 34,
     "metadata": {},
     "output_type": "execute_result"
    }
   ],
   "source": [
    "df_HG.describe()"
   ]
  },
  {
   "cell_type": "code",
   "execution_count": 35,
   "id": "9db112f6",
   "metadata": {},
   "outputs": [
    {
     "data": {
      "text/plain": [
       "array([1995, 1996, 1997, 1998, 1999, 2000, 2001, 2002, 2003, 2004, 2005,\n",
       "       2006, 2007, 2008, 2009, 2010, 2011, 2012, 2013, 2014, 2015, 2016,\n",
       "       2017, 2018, 2019, 2020, 2021], dtype=int64)"
      ]
     },
     "execution_count": 35,
     "metadata": {},
     "output_type": "execute_result"
    }
   ],
   "source": [
    "df_HG.YEAR.unique()"
   ]
  },
  {
   "cell_type": "code",
   "execution_count": 36,
   "id": "0bf7dd83",
   "metadata": {},
   "outputs": [
    {
     "data": {
      "text/plain": [
       "Index(['YEAR', 'TICKETS SOLD', 'TOTAL BOX OFFICE',\n",
       "       'TOTAL INFLATION ADJUSTED BOX OFFICE', 'AVERAGE TICKET PRICE'],\n",
       "      dtype='object')"
      ]
     },
     "execution_count": 36,
     "metadata": {},
     "output_type": "execute_result"
    }
   ],
   "source": [
    "df_TS.columns"
   ]
  },
  {
   "cell_type": "code",
   "execution_count": 37,
   "id": "3725efa9",
   "metadata": {},
   "outputs": [],
   "source": [
    "df_TD=pd.read_csv('TopDistributors.csv')"
   ]
  },
  {
   "cell_type": "code",
   "execution_count": 38,
   "id": "5ed1dd38",
   "metadata": {},
   "outputs": [],
   "source": [
    "#df_TD.head()"
   ]
  },
  {
   "cell_type": "code",
   "execution_count": 39,
   "id": "1d643c4b",
   "metadata": {},
   "outputs": [],
   "source": [
    "df_PDT = pd.read_csv('PopularCreativeTypes.csv')"
   ]
  },
  {
   "cell_type": "code",
   "execution_count": 40,
   "id": "453facf0",
   "metadata": {},
   "outputs": [],
   "source": [
    "#df_PDT.head()"
   ]
  },
  {
   "cell_type": "code",
   "execution_count": 41,
   "id": "0c7cb6c3",
   "metadata": {},
   "outputs": [],
   "source": [
    "df_WRC = pd.read_csv('WideReleasesCount.csv')"
   ]
  },
  {
   "cell_type": "code",
   "execution_count": 42,
   "id": "ac560b87",
   "metadata": {},
   "outputs": [
    {
     "data": {
      "text/html": [
       "<div>\n",
       "<style scoped>\n",
       "    .dataframe tbody tr th:only-of-type {\n",
       "        vertical-align: middle;\n",
       "    }\n",
       "\n",
       "    .dataframe tbody tr th {\n",
       "        vertical-align: top;\n",
       "    }\n",
       "\n",
       "    .dataframe thead th {\n",
       "        text-align: right;\n",
       "    }\n",
       "</style>\n",
       "<table border=\"1\" class=\"dataframe\">\n",
       "  <thead>\n",
       "    <tr style=\"text-align: right;\">\n",
       "      <th></th>\n",
       "      <th>YEAR</th>\n",
       "      <th>WARNER BROS</th>\n",
       "      <th>WALT DISNEY</th>\n",
       "      <th>20TH CENTURY FOX</th>\n",
       "      <th>PARAMOUNT PICTURES</th>\n",
       "      <th>SONY PICTURES</th>\n",
       "      <th>UNIVERSAL</th>\n",
       "      <th>TOTAL MAJOR 6</th>\n",
       "      <th>TOTAL OTHER STUDIOS</th>\n",
       "      <th>Unnamed: 9</th>\n",
       "    </tr>\n",
       "  </thead>\n",
       "  <tbody>\n",
       "    <tr>\n",
       "      <th>0</th>\n",
       "      <td>2021</td>\n",
       "      <td>17</td>\n",
       "      <td>7</td>\n",
       "      <td>0</td>\n",
       "      <td>4</td>\n",
       "      <td>16</td>\n",
       "      <td>17</td>\n",
       "      <td>61</td>\n",
       "      <td>38</td>\n",
       "      <td>NaN</td>\n",
       "    </tr>\n",
       "    <tr>\n",
       "      <th>1</th>\n",
       "      <td>2020</td>\n",
       "      <td>5</td>\n",
       "      <td>3</td>\n",
       "      <td>1</td>\n",
       "      <td>3</td>\n",
       "      <td>9</td>\n",
       "      <td>13</td>\n",
       "      <td>34</td>\n",
       "      <td>23</td>\n",
       "      <td>NaN</td>\n",
       "    </tr>\n",
       "    <tr>\n",
       "      <th>2</th>\n",
       "      <td>2019</td>\n",
       "      <td>18</td>\n",
       "      <td>10</td>\n",
       "      <td>11</td>\n",
       "      <td>9</td>\n",
       "      <td>18</td>\n",
       "      <td>21</td>\n",
       "      <td>87</td>\n",
       "      <td>44</td>\n",
       "      <td>NaN</td>\n",
       "    </tr>\n",
       "    <tr>\n",
       "      <th>3</th>\n",
       "      <td>2018</td>\n",
       "      <td>19</td>\n",
       "      <td>10</td>\n",
       "      <td>11</td>\n",
       "      <td>10</td>\n",
       "      <td>16</td>\n",
       "      <td>20</td>\n",
       "      <td>86</td>\n",
       "      <td>58</td>\n",
       "      <td>NaN</td>\n",
       "    </tr>\n",
       "    <tr>\n",
       "      <th>4</th>\n",
       "      <td>2017</td>\n",
       "      <td>18</td>\n",
       "      <td>8</td>\n",
       "      <td>14</td>\n",
       "      <td>10</td>\n",
       "      <td>16</td>\n",
       "      <td>15</td>\n",
       "      <td>81</td>\n",
       "      <td>50</td>\n",
       "      <td>NaN</td>\n",
       "    </tr>\n",
       "  </tbody>\n",
       "</table>\n",
       "</div>"
      ],
      "text/plain": [
       "   YEAR  WARNER BROS  WALT DISNEY  20TH CENTURY FOX  PARAMOUNT PICTURES  \\\n",
       "0  2021           17            7                 0                   4   \n",
       "1  2020            5            3                 1                   3   \n",
       "2  2019           18           10                11                   9   \n",
       "3  2018           19           10                11                  10   \n",
       "4  2017           18            8                14                  10   \n",
       "\n",
       "   SONY PICTURES  UNIVERSAL  TOTAL MAJOR 6  TOTAL OTHER STUDIOS  Unnamed: 9  \n",
       "0             16         17             61                   38         NaN  \n",
       "1              9         13             34                   23         NaN  \n",
       "2             18         21             87                   44         NaN  \n",
       "3             16         20             86                   58         NaN  \n",
       "4             16         15             81                   50         NaN  "
      ]
     },
     "execution_count": 42,
     "metadata": {},
     "output_type": "execute_result"
    }
   ],
   "source": [
    "df_WRC.head()"
   ]
  },
  {
   "cell_type": "code",
   "execution_count": 43,
   "id": "78337fc2",
   "metadata": {},
   "outputs": [],
   "source": [
    "df_WRC.drop('Unnamed: 9',inplace=True, axis=1)"
   ]
  },
  {
   "cell_type": "code",
   "execution_count": 44,
   "id": "814716f3",
   "metadata": {},
   "outputs": [
    {
     "name": "stdout",
     "output_type": "stream",
     "text": [
      "<class 'pandas.core.frame.DataFrame'>\n",
      "RangeIndex: 27 entries, 0 to 26\n",
      "Data columns (total 9 columns):\n",
      " #   Column               Non-Null Count  Dtype\n",
      "---  ------               --------------  -----\n",
      " 0   YEAR                 27 non-null     int64\n",
      " 1   WARNER BROS          27 non-null     int64\n",
      " 2   WALT DISNEY          27 non-null     int64\n",
      " 3   20TH CENTURY FOX     27 non-null     int64\n",
      " 4   PARAMOUNT PICTURES   27 non-null     int64\n",
      " 5   SONY PICTURES        27 non-null     int64\n",
      " 6   UNIVERSAL            27 non-null     int64\n",
      " 7   TOTAL MAJOR 6        27 non-null     int64\n",
      " 8   TOTAL OTHER STUDIOS  27 non-null     int64\n",
      "dtypes: int64(9)\n",
      "memory usage: 2.0 KB\n"
     ]
    }
   ],
   "source": [
    "df_WRC.info()"
   ]
  },
  {
   "cell_type": "code",
   "execution_count": 45,
   "id": "6a33bffd",
   "metadata": {},
   "outputs": [
    {
     "data": {
      "text/plain": [
       "(27, 9)"
      ]
     },
     "execution_count": 45,
     "metadata": {},
     "output_type": "execute_result"
    }
   ],
   "source": [
    "df_WRC.shape"
   ]
  },
  {
   "cell_type": "code",
   "execution_count": 46,
   "id": "28c75e42",
   "metadata": {},
   "outputs": [
    {
     "data": {
      "text/plain": [
       "YEAR                   0\n",
       "WARNER BROS            0\n",
       "WALT DISNEY            0\n",
       "20TH CENTURY FOX       0\n",
       "PARAMOUNT PICTURES     0\n",
       "SONY PICTURES          0\n",
       "UNIVERSAL              0\n",
       "TOTAL MAJOR 6          0\n",
       "TOTAL OTHER STUDIOS    0\n",
       "dtype: int64"
      ]
     },
     "execution_count": 46,
     "metadata": {},
     "output_type": "execute_result"
    }
   ],
   "source": [
    "df_WRC.isnull().sum()"
   ]
  },
  {
   "cell_type": "code",
   "execution_count": 47,
   "id": "f1ad1e10",
   "metadata": {},
   "outputs": [
    {
     "data": {
      "text/html": [
       "<div>\n",
       "<style scoped>\n",
       "    .dataframe tbody tr th:only-of-type {\n",
       "        vertical-align: middle;\n",
       "    }\n",
       "\n",
       "    .dataframe tbody tr th {\n",
       "        vertical-align: top;\n",
       "    }\n",
       "\n",
       "    .dataframe thead th {\n",
       "        text-align: right;\n",
       "    }\n",
       "</style>\n",
       "<table border=\"1\" class=\"dataframe\">\n",
       "  <thead>\n",
       "    <tr style=\"text-align: right;\">\n",
       "      <th></th>\n",
       "      <th>YEAR</th>\n",
       "      <th>WARNER BROS</th>\n",
       "      <th>WALT DISNEY</th>\n",
       "      <th>20TH CENTURY FOX</th>\n",
       "      <th>PARAMOUNT PICTURES</th>\n",
       "      <th>SONY PICTURES</th>\n",
       "      <th>UNIVERSAL</th>\n",
       "      <th>TOTAL MAJOR 6</th>\n",
       "      <th>TOTAL OTHER STUDIOS</th>\n",
       "    </tr>\n",
       "  </thead>\n",
       "  <tbody>\n",
       "    <tr>\n",
       "      <th>count</th>\n",
       "      <td>27.000000</td>\n",
       "      <td>27.000000</td>\n",
       "      <td>27.000000</td>\n",
       "      <td>27.000000</td>\n",
       "      <td>27.000000</td>\n",
       "      <td>27.000000</td>\n",
       "      <td>27.000000</td>\n",
       "      <td>27.000000</td>\n",
       "      <td>27.000000</td>\n",
       "    </tr>\n",
       "    <tr>\n",
       "      <th>mean</th>\n",
       "      <td>2008.000000</td>\n",
       "      <td>22.777778</td>\n",
       "      <td>15.000000</td>\n",
       "      <td>14.481481</td>\n",
       "      <td>11.703704</td>\n",
       "      <td>18.222222</td>\n",
       "      <td>16.518519</td>\n",
       "      <td>98.703704</td>\n",
       "      <td>33.259259</td>\n",
       "    </tr>\n",
       "    <tr>\n",
       "      <th>std</th>\n",
       "      <td>7.937254</td>\n",
       "      <td>6.417125</td>\n",
       "      <td>5.954959</td>\n",
       "      <td>5.286924</td>\n",
       "      <td>3.267731</td>\n",
       "      <td>3.609105</td>\n",
       "      <td>3.320917</td>\n",
       "      <td>19.751952</td>\n",
       "      <td>10.928412</td>\n",
       "    </tr>\n",
       "    <tr>\n",
       "      <th>min</th>\n",
       "      <td>1995.000000</td>\n",
       "      <td>5.000000</td>\n",
       "      <td>3.000000</td>\n",
       "      <td>0.000000</td>\n",
       "      <td>3.000000</td>\n",
       "      <td>9.000000</td>\n",
       "      <td>10.000000</td>\n",
       "      <td>34.000000</td>\n",
       "      <td>19.000000</td>\n",
       "    </tr>\n",
       "    <tr>\n",
       "      <th>25%</th>\n",
       "      <td>2001.500000</td>\n",
       "      <td>18.000000</td>\n",
       "      <td>11.000000</td>\n",
       "      <td>12.500000</td>\n",
       "      <td>10.000000</td>\n",
       "      <td>16.000000</td>\n",
       "      <td>13.500000</td>\n",
       "      <td>89.000000</td>\n",
       "      <td>24.000000</td>\n",
       "    </tr>\n",
       "    <tr>\n",
       "      <th>50%</th>\n",
       "      <td>2008.000000</td>\n",
       "      <td>22.000000</td>\n",
       "      <td>13.000000</td>\n",
       "      <td>15.000000</td>\n",
       "      <td>12.000000</td>\n",
       "      <td>18.000000</td>\n",
       "      <td>17.000000</td>\n",
       "      <td>104.000000</td>\n",
       "      <td>30.000000</td>\n",
       "    </tr>\n",
       "    <tr>\n",
       "      <th>75%</th>\n",
       "      <td>2014.500000</td>\n",
       "      <td>27.500000</td>\n",
       "      <td>20.500000</td>\n",
       "      <td>17.500000</td>\n",
       "      <td>14.000000</td>\n",
       "      <td>20.500000</td>\n",
       "      <td>19.500000</td>\n",
       "      <td>112.000000</td>\n",
       "      <td>42.000000</td>\n",
       "    </tr>\n",
       "    <tr>\n",
       "      <th>max</th>\n",
       "      <td>2021.000000</td>\n",
       "      <td>32.000000</td>\n",
       "      <td>25.000000</td>\n",
       "      <td>25.000000</td>\n",
       "      <td>16.000000</td>\n",
       "      <td>26.000000</td>\n",
       "      <td>22.000000</td>\n",
       "      <td>128.000000</td>\n",
       "      <td>58.000000</td>\n",
       "    </tr>\n",
       "  </tbody>\n",
       "</table>\n",
       "</div>"
      ],
      "text/plain": [
       "              YEAR  WARNER BROS  WALT DISNEY  20TH CENTURY FOX  \\\n",
       "count    27.000000    27.000000    27.000000         27.000000   \n",
       "mean   2008.000000    22.777778    15.000000         14.481481   \n",
       "std       7.937254     6.417125     5.954959          5.286924   \n",
       "min    1995.000000     5.000000     3.000000          0.000000   \n",
       "25%    2001.500000    18.000000    11.000000         12.500000   \n",
       "50%    2008.000000    22.000000    13.000000         15.000000   \n",
       "75%    2014.500000    27.500000    20.500000         17.500000   \n",
       "max    2021.000000    32.000000    25.000000         25.000000   \n",
       "\n",
       "       PARAMOUNT PICTURES  SONY PICTURES  UNIVERSAL  TOTAL MAJOR 6  \\\n",
       "count           27.000000      27.000000  27.000000      27.000000   \n",
       "mean            11.703704      18.222222  16.518519      98.703704   \n",
       "std              3.267731       3.609105   3.320917      19.751952   \n",
       "min              3.000000       9.000000  10.000000      34.000000   \n",
       "25%             10.000000      16.000000  13.500000      89.000000   \n",
       "50%             12.000000      18.000000  17.000000     104.000000   \n",
       "75%             14.000000      20.500000  19.500000     112.000000   \n",
       "max             16.000000      26.000000  22.000000     128.000000   \n",
       "\n",
       "       TOTAL OTHER STUDIOS  \n",
       "count            27.000000  \n",
       "mean             33.259259  \n",
       "std              10.928412  \n",
       "min              19.000000  \n",
       "25%              24.000000  \n",
       "50%              30.000000  \n",
       "75%              42.000000  \n",
       "max              58.000000  "
      ]
     },
     "execution_count": 47,
     "metadata": {},
     "output_type": "execute_result"
    }
   ],
   "source": [
    "df_WRC.describe()"
   ]
  },
  {
   "cell_type": "code",
   "execution_count": 48,
   "id": "1e480c7b",
   "metadata": {},
   "outputs": [
    {
     "data": {
      "text/plain": [
       "Index(['YEAR', 'MOVIE', 'GENRE', 'MPAA RATING', 'DISTRIBUTOR',\n",
       "       'TOTAL FOR YEAR', 'TOTAL IN 2019 DOLLARS', 'TICKETS SOLD'],\n",
       "      dtype='object')"
      ]
     },
     "execution_count": 48,
     "metadata": {},
     "output_type": "execute_result"
    }
   ],
   "source": [
    "df_HG.columns"
   ]
  },
  {
   "cell_type": "code",
   "execution_count": 49,
   "id": "9b804ddb",
   "metadata": {},
   "outputs": [
    {
     "data": {
      "text/plain": [
       "Index(['YEAR', 'TICKETS SOLD', 'TOTAL BOX OFFICE',\n",
       "       'TOTAL INFLATION ADJUSTED BOX OFFICE', 'AVERAGE TICKET PRICE'],\n",
       "      dtype='object')"
      ]
     },
     "execution_count": 49,
     "metadata": {},
     "output_type": "execute_result"
    }
   ],
   "source": [
    "df_TS.columns"
   ]
  },
  {
   "cell_type": "code",
   "execution_count": 50,
   "id": "03d8e2f1",
   "metadata": {},
   "outputs": [
    {
     "data": {
      "text/plain": [
       "Index(['YEAR', 'WARNER BROS', 'WALT DISNEY', '20TH CENTURY FOX',\n",
       "       'PARAMOUNT PICTURES', 'SONY PICTURES', 'UNIVERSAL', 'TOTAL MAJOR 6',\n",
       "       'TOTAL OTHER STUDIOS'],\n",
       "      dtype='object')"
      ]
     },
     "execution_count": 50,
     "metadata": {},
     "output_type": "execute_result"
    }
   ],
   "source": [
    "df_WRC.columns"
   ]
  },
  {
   "cell_type": "code",
   "execution_count": 51,
   "id": "e1761f52",
   "metadata": {},
   "outputs": [
    {
     "data": {
      "text/html": [
       "<div>\n",
       "<style scoped>\n",
       "    .dataframe tbody tr th:only-of-type {\n",
       "        vertical-align: middle;\n",
       "    }\n",
       "\n",
       "    .dataframe tbody tr th {\n",
       "        vertical-align: top;\n",
       "    }\n",
       "\n",
       "    .dataframe thead th {\n",
       "        text-align: right;\n",
       "    }\n",
       "</style>\n",
       "<table border=\"1\" class=\"dataframe\">\n",
       "  <thead>\n",
       "    <tr style=\"text-align: right;\">\n",
       "      <th></th>\n",
       "      <th>YEAR</th>\n",
       "      <th>WARNER BROS</th>\n",
       "      <th>WALT DISNEY</th>\n",
       "      <th>20TH CENTURY FOX</th>\n",
       "      <th>PARAMOUNT PICTURES</th>\n",
       "      <th>SONY PICTURES</th>\n",
       "      <th>UNIVERSAL</th>\n",
       "      <th>TOTAL MAJOR 6</th>\n",
       "      <th>TOTAL OTHER STUDIOS</th>\n",
       "    </tr>\n",
       "  </thead>\n",
       "  <tbody>\n",
       "    <tr>\n",
       "      <th>0</th>\n",
       "      <td>2021</td>\n",
       "      <td>17</td>\n",
       "      <td>7</td>\n",
       "      <td>0</td>\n",
       "      <td>4</td>\n",
       "      <td>16</td>\n",
       "      <td>17</td>\n",
       "      <td>61</td>\n",
       "      <td>38</td>\n",
       "    </tr>\n",
       "    <tr>\n",
       "      <th>1</th>\n",
       "      <td>2020</td>\n",
       "      <td>5</td>\n",
       "      <td>3</td>\n",
       "      <td>1</td>\n",
       "      <td>3</td>\n",
       "      <td>9</td>\n",
       "      <td>13</td>\n",
       "      <td>34</td>\n",
       "      <td>23</td>\n",
       "    </tr>\n",
       "    <tr>\n",
       "      <th>2</th>\n",
       "      <td>2019</td>\n",
       "      <td>18</td>\n",
       "      <td>10</td>\n",
       "      <td>11</td>\n",
       "      <td>9</td>\n",
       "      <td>18</td>\n",
       "      <td>21</td>\n",
       "      <td>87</td>\n",
       "      <td>44</td>\n",
       "    </tr>\n",
       "    <tr>\n",
       "      <th>3</th>\n",
       "      <td>2018</td>\n",
       "      <td>19</td>\n",
       "      <td>10</td>\n",
       "      <td>11</td>\n",
       "      <td>10</td>\n",
       "      <td>16</td>\n",
       "      <td>20</td>\n",
       "      <td>86</td>\n",
       "      <td>58</td>\n",
       "    </tr>\n",
       "    <tr>\n",
       "      <th>4</th>\n",
       "      <td>2017</td>\n",
       "      <td>18</td>\n",
       "      <td>8</td>\n",
       "      <td>14</td>\n",
       "      <td>10</td>\n",
       "      <td>16</td>\n",
       "      <td>15</td>\n",
       "      <td>81</td>\n",
       "      <td>50</td>\n",
       "    </tr>\n",
       "  </tbody>\n",
       "</table>\n",
       "</div>"
      ],
      "text/plain": [
       "   YEAR  WARNER BROS  WALT DISNEY  20TH CENTURY FOX  PARAMOUNT PICTURES  \\\n",
       "0  2021           17            7                 0                   4   \n",
       "1  2020            5            3                 1                   3   \n",
       "2  2019           18           10                11                   9   \n",
       "3  2018           19           10                11                  10   \n",
       "4  2017           18            8                14                  10   \n",
       "\n",
       "   SONY PICTURES  UNIVERSAL  TOTAL MAJOR 6  TOTAL OTHER STUDIOS  \n",
       "0             16         17             61                   38  \n",
       "1              9         13             34                   23  \n",
       "2             18         21             87                   44  \n",
       "3             16         20             86                   58  \n",
       "4             16         15             81                   50  "
      ]
     },
     "execution_count": 51,
     "metadata": {},
     "output_type": "execute_result"
    }
   ],
   "source": [
    "df_WRC.head()"
   ]
  },
  {
   "cell_type": "code",
   "execution_count": 52,
   "id": "ca87b594",
   "metadata": {},
   "outputs": [
    {
     "data": {
      "text/plain": [
       "0     TOTAL MAJOR 6\n",
       "1     TOTAL MAJOR 6\n",
       "2     TOTAL MAJOR 6\n",
       "3     TOTAL MAJOR 6\n",
       "4     TOTAL MAJOR 6\n",
       "5     TOTAL MAJOR 6\n",
       "6     TOTAL MAJOR 6\n",
       "7     TOTAL MAJOR 6\n",
       "8     TOTAL MAJOR 6\n",
       "9     TOTAL MAJOR 6\n",
       "10    TOTAL MAJOR 6\n",
       "11    TOTAL MAJOR 6\n",
       "12    TOTAL MAJOR 6\n",
       "13    TOTAL MAJOR 6\n",
       "14    TOTAL MAJOR 6\n",
       "15    TOTAL MAJOR 6\n",
       "16    TOTAL MAJOR 6\n",
       "17    TOTAL MAJOR 6\n",
       "18    TOTAL MAJOR 6\n",
       "19    TOTAL MAJOR 6\n",
       "20    TOTAL MAJOR 6\n",
       "21    TOTAL MAJOR 6\n",
       "22    TOTAL MAJOR 6\n",
       "23    TOTAL MAJOR 6\n",
       "24    TOTAL MAJOR 6\n",
       "25    TOTAL MAJOR 6\n",
       "26    TOTAL MAJOR 6\n",
       "dtype: object"
      ]
     },
     "execution_count": 52,
     "metadata": {},
     "output_type": "execute_result"
    }
   ],
   "source": [
    "lst = df_WRC.columns[df_WRC.columns != 'YEAR']\n",
    "df_WRC[lst].idxmax(axis=1)"
   ]
  },
  {
   "cell_type": "markdown",
   "id": "97c6e171",
   "metadata": {},
   "source": [
    "##### obs: total major 6 is the highest number of wide release in each year"
   ]
  },
  {
   "cell_type": "code",
   "execution_count": 53,
   "id": "91e1c752",
   "metadata": {},
   "outputs": [
    {
     "data": {
      "text/plain": [
       "<AxesSubplot:>"
      ]
     },
     "execution_count": 53,
     "metadata": {},
     "output_type": "execute_result"
    },
    {
     "data": {
      "image/png": "[encoded data removed]",
      "text/plain": [
       "<Figure size 1440x1440 with 2 Axes>"
      ]
     },
     "metadata": {
      "needs_background": "light"
     },
     "output_type": "display_data"
    }
   ],
   "source": [
    "corr_mat = df_WRC.corr()\n",
    "Feature = corr_mat.index\n",
    "plt.figure(figsize=(20,20))\n",
    "sns.heatmap(df_WRC[Feature].corr(),annot=True,cmap=\"RdYlGn\")"
   ]
  },
  {
   "cell_type": "code",
   "execution_count": null,
   "id": "50588ffd",
   "metadata": {},
   "outputs": [],
   "source": []
  }
 ],
 "metadata": {
  "kernelspec": {
   "display_name": "Python 3 (ipykernel)",
   "language": "python",
   "name": "python3"
  },
  "language_info": {
   "codemirror_mode": {
    "name": "ipython",
    "version": 3
   },
   "file_extension": ".py",
   "mimetype": "text/x-python",
   "name": "python",
   "nbconvert_exporter": "python",
   "pygments_lexer": "ipython3",
   "version": "3.7.3"
  }
 },
 "nbformat": 4,
 "nbformat_minor": 5
}
